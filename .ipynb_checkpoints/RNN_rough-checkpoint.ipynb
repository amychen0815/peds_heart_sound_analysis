{
 "cells": [
  {
   "cell_type": "code",
   "execution_count": 30,
   "metadata": {},
   "outputs": [
    {
     "name": "stdout",
     "output_type": "stream",
     "text": [
      "Requirement already satisfied: tensorflow in /Users/yunchanchen/opt/anaconda3/lib/python3.7/site-packages (2.2.0)\n",
      "Requirement already satisfied: opt-einsum>=2.3.2 in /Users/yunchanchen/opt/anaconda3/lib/python3.7/site-packages (from tensorflow) (3.2.1)\n",
      "Requirement already satisfied: grpcio>=1.8.6 in /Users/yunchanchen/opt/anaconda3/lib/python3.7/site-packages (from tensorflow) (1.29.0)\n",
      "Requirement already satisfied: numpy<2.0,>=1.16.0 in /Users/yunchanchen/opt/anaconda3/lib/python3.7/site-packages (from tensorflow) (1.17.2)\n",
      "Requirement already satisfied: protobuf>=3.8.0 in /Users/yunchanchen/opt/anaconda3/lib/python3.7/site-packages (from tensorflow) (3.12.1)\n",
      "Requirement already satisfied: google-pasta>=0.1.8 in /Users/yunchanchen/opt/anaconda3/lib/python3.7/site-packages (from tensorflow) (0.2.0)\n",
      "Requirement already satisfied: astunparse==1.6.3 in /Users/yunchanchen/opt/anaconda3/lib/python3.7/site-packages (from tensorflow) (1.6.3)\n",
      "Requirement already satisfied: termcolor>=1.1.0 in /Users/yunchanchen/opt/anaconda3/lib/python3.7/site-packages (from tensorflow) (1.1.0)\n",
      "Requirement already satisfied: wrapt>=1.11.1 in /Users/yunchanchen/opt/anaconda3/lib/python3.7/site-packages (from tensorflow) (1.11.2)\n",
      "Requirement already satisfied: h5py<2.11.0,>=2.10.0 in /Users/yunchanchen/opt/anaconda3/lib/python3.7/site-packages (from tensorflow) (2.10.0)\n",
      "Requirement already satisfied: wheel>=0.26; python_version >= \"3\" in /Users/yunchanchen/opt/anaconda3/lib/python3.7/site-packages (from tensorflow) (0.33.6)\n",
      "Requirement already satisfied: gast==0.3.3 in /Users/yunchanchen/opt/anaconda3/lib/python3.7/site-packages (from tensorflow) (0.3.3)\n",
      "Requirement already satisfied: scipy==1.4.1; python_version >= \"3\" in /Users/yunchanchen/opt/anaconda3/lib/python3.7/site-packages (from tensorflow) (1.4.1)\n",
      "Requirement already satisfied: keras-preprocessing>=1.1.0 in /Users/yunchanchen/opt/anaconda3/lib/python3.7/site-packages (from tensorflow) (1.1.2)\n",
      "Requirement already satisfied: tensorflow-estimator<2.3.0,>=2.2.0 in /Users/yunchanchen/opt/anaconda3/lib/python3.7/site-packages (from tensorflow) (2.2.0)\n",
      "Requirement already satisfied: six>=1.12.0 in /Users/yunchanchen/opt/anaconda3/lib/python3.7/site-packages (from tensorflow) (1.12.0)\n",
      "Requirement already satisfied: absl-py>=0.7.0 in /Users/yunchanchen/opt/anaconda3/lib/python3.7/site-packages (from tensorflow) (0.9.0)\n",
      "Requirement already satisfied: tensorboard<2.3.0,>=2.2.0 in /Users/yunchanchen/opt/anaconda3/lib/python3.7/site-packages (from tensorflow) (2.2.1)\n",
      "Requirement already satisfied: setuptools in /Users/yunchanchen/opt/anaconda3/lib/python3.7/site-packages (from protobuf>=3.8.0->tensorflow) (41.4.0)\n",
      "Requirement already satisfied: requests<3,>=2.21.0 in /Users/yunchanchen/opt/anaconda3/lib/python3.7/site-packages (from tensorboard<2.3.0,>=2.2.0->tensorflow) (2.22.0)\n",
      "Requirement already satisfied: markdown>=2.6.8 in /Users/yunchanchen/opt/anaconda3/lib/python3.7/site-packages (from tensorboard<2.3.0,>=2.2.0->tensorflow) (3.2.2)\n",
      "Requirement already satisfied: tensorboard-plugin-wit>=1.6.0 in /Users/yunchanchen/opt/anaconda3/lib/python3.7/site-packages (from tensorboard<2.3.0,>=2.2.0->tensorflow) (1.6.0.post3)\n",
      "Requirement already satisfied: werkzeug>=0.11.15 in /Users/yunchanchen/opt/anaconda3/lib/python3.7/site-packages (from tensorboard<2.3.0,>=2.2.0->tensorflow) (0.16.0)\n",
      "Requirement already satisfied: google-auth<2,>=1.6.3 in /Users/yunchanchen/opt/anaconda3/lib/python3.7/site-packages (from tensorboard<2.3.0,>=2.2.0->tensorflow) (1.15.0)\n",
      "Requirement already satisfied: google-auth-oauthlib<0.5,>=0.4.1 in /Users/yunchanchen/opt/anaconda3/lib/python3.7/site-packages (from tensorboard<2.3.0,>=2.2.0->tensorflow) (0.4.1)\n",
      "Requirement already satisfied: urllib3!=1.25.0,!=1.25.1,<1.26,>=1.21.1 in /Users/yunchanchen/opt/anaconda3/lib/python3.7/site-packages (from requests<3,>=2.21.0->tensorboard<2.3.0,>=2.2.0->tensorflow) (1.24.2)\n",
      "Requirement already satisfied: chardet<3.1.0,>=3.0.2 in /Users/yunchanchen/opt/anaconda3/lib/python3.7/site-packages (from requests<3,>=2.21.0->tensorboard<2.3.0,>=2.2.0->tensorflow) (3.0.4)\n",
      "Requirement already satisfied: certifi>=2017.4.17 in /Users/yunchanchen/opt/anaconda3/lib/python3.7/site-packages (from requests<3,>=2.21.0->tensorboard<2.3.0,>=2.2.0->tensorflow) (2019.9.11)\n",
      "Requirement already satisfied: idna<2.9,>=2.5 in /Users/yunchanchen/opt/anaconda3/lib/python3.7/site-packages (from requests<3,>=2.21.0->tensorboard<2.3.0,>=2.2.0->tensorflow) (2.8)\n",
      "Requirement already satisfied: importlib-metadata; python_version < \"3.8\" in /Users/yunchanchen/opt/anaconda3/lib/python3.7/site-packages (from markdown>=2.6.8->tensorboard<2.3.0,>=2.2.0->tensorflow) (0.23)\n",
      "Requirement already satisfied: pyasn1-modules>=0.2.1 in /Users/yunchanchen/opt/anaconda3/lib/python3.7/site-packages (from google-auth<2,>=1.6.3->tensorboard<2.3.0,>=2.2.0->tensorflow) (0.2.8)\n",
      "Requirement already satisfied: cachetools<5.0,>=2.0.0 in /Users/yunchanchen/opt/anaconda3/lib/python3.7/site-packages (from google-auth<2,>=1.6.3->tensorboard<2.3.0,>=2.2.0->tensorflow) (4.1.0)\n",
      "Requirement already satisfied: rsa<4.1,>=3.1.4 in /Users/yunchanchen/opt/anaconda3/lib/python3.7/site-packages (from google-auth<2,>=1.6.3->tensorboard<2.3.0,>=2.2.0->tensorflow) (4.0)\n",
      "Requirement already satisfied: requests-oauthlib>=0.7.0 in /Users/yunchanchen/opt/anaconda3/lib/python3.7/site-packages (from google-auth-oauthlib<0.5,>=0.4.1->tensorboard<2.3.0,>=2.2.0->tensorflow) (1.3.0)\n",
      "Requirement already satisfied: zipp>=0.5 in /Users/yunchanchen/opt/anaconda3/lib/python3.7/site-packages (from importlib-metadata; python_version < \"3.8\"->markdown>=2.6.8->tensorboard<2.3.0,>=2.2.0->tensorflow) (0.6.0)\n",
      "Requirement already satisfied: pyasn1<0.5.0,>=0.4.6 in /Users/yunchanchen/opt/anaconda3/lib/python3.7/site-packages (from pyasn1-modules>=0.2.1->google-auth<2,>=1.6.3->tensorboard<2.3.0,>=2.2.0->tensorflow) (0.4.8)\n",
      "Requirement already satisfied: oauthlib>=3.0.0 in /Users/yunchanchen/opt/anaconda3/lib/python3.7/site-packages (from requests-oauthlib>=0.7.0->google-auth-oauthlib<0.5,>=0.4.1->tensorboard<2.3.0,>=2.2.0->tensorflow) (3.1.0)\n",
      "Requirement already satisfied: more-itertools in /Users/yunchanchen/opt/anaconda3/lib/python3.7/site-packages (from zipp>=0.5->importlib-metadata; python_version < \"3.8\"->markdown>=2.6.8->tensorboard<2.3.0,>=2.2.0->tensorflow) (7.2.0)\n"
     ]
    }
   ],
   "source": [
    "! pip install tensorflow;\n",
    "import numpy as np\n",
    "import tensorflow as tf\n",
    "from tensorflow.keras.models import Sequential\n",
    "from tensorflow.keras.layers import Dense, Dropout, Activation, LSTM\n"
   ]
  },
  {
   "cell_type": "code",
   "execution_count": 31,
   "metadata": {},
   "outputs": [],
   "source": [
    "import pickle\n",
    "import numpy as np\n",
    "import os\n",
    "import matplotlib.pyplot as plt\n",
    "from sklearn.datasets import make_classification\n",
    "from sklearn.model_selection import train_test_split"
   ]
  },
  {
   "cell_type": "code",
   "execution_count": 50,
   "metadata": {},
   "outputs": [],
   "source": [
    "X = pickle.load(open(\"X.pickle\",\"rb\"))\n",
    "y = pickle.load(open(\"y.pickle\",\"rb\"))\n",
    "\n",
    "#normalizes in L-2 order (square root of the sum of the squares)\n",
    "X = tf.keras.utils.normalize(X, axis = -1, order = 2);\n",
    "y = np.array(y)\n",
    "\n",
    "X_train, X_test, y_train, y_test = train_test_split(X, y, test_size=0.1)\n"
   ]
  },
  {
   "cell_type": "code",
   "execution_count": 51,
   "metadata": {},
   "outputs": [
    {
     "data": {
      "text/plain": [
       "numpy.ndarray"
      ]
     },
     "execution_count": 51,
     "metadata": {},
     "output_type": "execute_result"
    }
   ],
   "source": [
    "type(X_train)"
   ]
  },
  {
   "cell_type": "code",
   "execution_count": 64,
   "metadata": {},
   "outputs": [],
   "source": [
    "model = keras.Sequential()\n",
    "\n",
    "model.add(LSTM(128, input_shape=(X_train.shape[1:3]), activation='relu', return_sequences=True))\n",
    "model.add(Dropout(0.2))\n",
    "\n",
    "model.add(LSTM(128, activation='relu'))\n",
    "model.add(Dropout(0.2))\n",
    "\n",
    "model.add(Dense(32, activation='relu'))\n",
    "model.add(Dropout(0.2))\n",
    "\n",
    "model.add(Dense(10, activation='softmax'))\n",
    "\n",
    "opt = tf.keras.optimizers.Adam(lr=1e-3, decay=1e-5)\n",
    "\n",
    "model.compile(loss='sparse_categorical_crossentropy',metrics=[\"accuracy\"])"
   ]
  },
  {
   "cell_type": "code",
   "execution_count": null,
   "metadata": {},
   "outputs": [
    {
     "name": "stdout",
     "output_type": "stream",
     "text": [
      "Epoch 1/3\n",
      "145/145 [==============================] - 13s 90ms/step - loss: 255121.8438 - accuracy: 0.3998 - val_loss: 20640.3711 - val_accuracy: 0.4951\n",
      "Epoch 2/3\n",
      "145/145 [==============================] - 13s 87ms/step - loss: 12726321.0000 - accuracy: 0.4624 - val_loss: 3549204.2500 - val_accuracy: 0.4932\n",
      "Epoch 3/3\n",
      "132/145 [==========================>...] - ETA: 1s - loss: 13482757.0000 - accuracy: 0.4870"
     ]
    }
   ],
   "source": [
    "model.fit(X_train[:,:,:,0],y_train,epochs=30,validation_data=(X_test[:,:,:,0], y_test))"
   ]
  },
  {
   "cell_type": "code",
   "execution_count": 59,
   "metadata": {},
   "outputs": [
    {
     "data": {
      "text/plain": [
       "array([[[[0.57735027, 0.57735027, 0.57735027],\n",
       "         [0.57735027, 0.57735027, 0.57735027],\n",
       "         [0.57735027, 0.57735027, 0.57735027],\n",
       "         ...,\n",
       "         [0.57735027, 0.57735027, 0.57735027],\n",
       "         [0.57735027, 0.57735027, 0.57735027],\n",
       "         [0.57735027, 0.57735027, 0.57735027]],\n",
       "\n",
       "        [[0.57735027, 0.57735027, 0.57735027],\n",
       "         [0.57735027, 0.57735027, 0.57735027],\n",
       "         [0.57735027, 0.57735027, 0.57735027],\n",
       "         ...,\n",
       "         [0.57735027, 0.57735027, 0.57735027],\n",
       "         [0.57735027, 0.57735027, 0.57735027],\n",
       "         [0.57735027, 0.57735027, 0.57735027]],\n",
       "\n",
       "        [[0.57735027, 0.57735027, 0.57735027],\n",
       "         [0.57735027, 0.57735027, 0.57735027],\n",
       "         [0.57735027, 0.57735027, 0.57735027],\n",
       "         ...,\n",
       "         [0.57735027, 0.57735027, 0.57735027],\n",
       "         [0.57735027, 0.57735027, 0.57735027],\n",
       "         [0.57735027, 0.57735027, 0.57735027]],\n",
       "\n",
       "        ...,\n",
       "\n",
       "        [[0.57735027, 0.57735027, 0.57735027],\n",
       "         [0.57735027, 0.57735027, 0.57735027],\n",
       "         [0.57735027, 0.57735027, 0.57735027],\n",
       "         ...,\n",
       "         [0.57735027, 0.57735027, 0.57735027],\n",
       "         [0.57735027, 0.57735027, 0.57735027],\n",
       "         [0.57735027, 0.57735027, 0.57735027]],\n",
       "\n",
       "        [[0.57735027, 0.57735027, 0.57735027],\n",
       "         [0.57735027, 0.57735027, 0.57735027],\n",
       "         [0.57735027, 0.57735027, 0.57735027],\n",
       "         ...,\n",
       "         [0.57735027, 0.57735027, 0.57735027],\n",
       "         [0.57735027, 0.57735027, 0.57735027],\n",
       "         [0.57735027, 0.57735027, 0.57735027]],\n",
       "\n",
       "        [[0.57735027, 0.57735027, 0.57735027],\n",
       "         [0.57735027, 0.57735027, 0.57735027],\n",
       "         [0.57735027, 0.57735027, 0.57735027],\n",
       "         ...,\n",
       "         [0.57735027, 0.57735027, 0.57735027],\n",
       "         [0.57735027, 0.57735027, 0.57735027],\n",
       "         [0.57735027, 0.57735027, 0.57735027]]],\n",
       "\n",
       "\n",
       "       [[[0.57735027, 0.57735027, 0.57735027],\n",
       "         [0.57735027, 0.57735027, 0.57735027],\n",
       "         [0.57735027, 0.57735027, 0.57735027],\n",
       "         ...,\n",
       "         [0.57735027, 0.57735027, 0.57735027],\n",
       "         [0.57735027, 0.57735027, 0.57735027],\n",
       "         [0.57735027, 0.57735027, 0.57735027]],\n",
       "\n",
       "        [[0.57735027, 0.57735027, 0.57735027],\n",
       "         [0.57735027, 0.57735027, 0.57735027],\n",
       "         [0.57735027, 0.57735027, 0.57735027],\n",
       "         ...,\n",
       "         [0.57735027, 0.57735027, 0.57735027],\n",
       "         [0.57735027, 0.57735027, 0.57735027],\n",
       "         [0.57735027, 0.57735027, 0.57735027]],\n",
       "\n",
       "        [[0.57735027, 0.57735027, 0.57735027],\n",
       "         [0.57735027, 0.57735027, 0.57735027],\n",
       "         [0.57735027, 0.57735027, 0.57735027],\n",
       "         ...,\n",
       "         [0.57735027, 0.57735027, 0.57735027],\n",
       "         [0.57735027, 0.57735027, 0.57735027],\n",
       "         [0.57735027, 0.57735027, 0.57735027]],\n",
       "\n",
       "        ...,\n",
       "\n",
       "        [[0.57735027, 0.57735027, 0.57735027],\n",
       "         [0.57735027, 0.57735027, 0.57735027],\n",
       "         [0.57735027, 0.57735027, 0.57735027],\n",
       "         ...,\n",
       "         [0.57735027, 0.57735027, 0.57735027],\n",
       "         [0.57735027, 0.57735027, 0.57735027],\n",
       "         [0.57735027, 0.57735027, 0.57735027]],\n",
       "\n",
       "        [[0.57735027, 0.57735027, 0.57735027],\n",
       "         [0.57735027, 0.57735027, 0.57735027],\n",
       "         [0.57735027, 0.57735027, 0.57735027],\n",
       "         ...,\n",
       "         [0.57735027, 0.57735027, 0.57735027],\n",
       "         [0.57735027, 0.57735027, 0.57735027],\n",
       "         [0.57735027, 0.57735027, 0.57735027]],\n",
       "\n",
       "        [[0.57735027, 0.57735027, 0.57735027],\n",
       "         [0.57735027, 0.57735027, 0.57735027],\n",
       "         [0.57735027, 0.57735027, 0.57735027],\n",
       "         ...,\n",
       "         [0.57735027, 0.57735027, 0.57735027],\n",
       "         [0.57735027, 0.57735027, 0.57735027],\n",
       "         [0.57735027, 0.57735027, 0.57735027]]]])"
      ]
     },
     "execution_count": 59,
     "metadata": {},
     "output_type": "execute_result"
    }
   ],
   "source": []
  },
  {
   "cell_type": "code",
   "execution_count": null,
   "metadata": {},
   "outputs": [],
   "source": []
  }
 ],
 "metadata": {
  "kernelspec": {
   "display_name": "Python 3",
   "language": "python",
   "name": "python3"
  },
  "language_info": {
   "codemirror_mode": {
    "name": "ipython",
    "version": 3
   },
   "file_extension": ".py",
   "mimetype": "text/x-python",
   "name": "python",
   "nbconvert_exporter": "python",
   "pygments_lexer": "ipython3",
   "version": "3.7.4"
  }
 },
 "nbformat": 4,
 "nbformat_minor": 2
}
