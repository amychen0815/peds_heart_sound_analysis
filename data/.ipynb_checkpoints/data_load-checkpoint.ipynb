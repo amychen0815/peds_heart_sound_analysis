{
 "cells": [
  {
   "cell_type": "code",
   "execution_count": 3,
   "metadata": {},
   "outputs": [
    {
     "name": "stdout",
     "output_type": "stream",
     "text": [
      "Collecting opencv-python\n",
      "\u001b[?25l  Downloading https://files.pythonhosted.org/packages/7c/0b/df5987ee6671eb7645d990b70832780daf0ece89469af0a792d8dcbcfe62/opencv_python-4.2.0.34-cp37-cp37m-macosx_10_9_x86_64.whl (49.1MB)\n",
      "\u001b[K     |████████████████████████████████| 49.1MB 3.2MB/s eta 0:00:01\n",
      "\u001b[?25hRequirement already satisfied: numpy>=1.14.5 in /Users/yunchanchen/opt/anaconda3/lib/python3.7/site-packages (from opencv-python) (1.17.2)\n",
      "Installing collected packages: opencv-python\n",
      "Successfully installed opencv-python-4.2.0.34\n"
     ]
    }
   ],
   "source": [
    "! pip install opencv-python"
   ]
  },
  {
   "cell_type": "code",
   "execution_count": 132,
   "metadata": {},
   "outputs": [],
   "source": [
    "import numpy as np\n",
    "import matplotlib.pyplot as plt\n",
    "import matplotlib.image as mpimg\n",
    "from sklearn.utils import resample\n",
    "import os\n",
    "import cv2\n",
    "import random\n",
    "import pickle"
   ]
  },
  {
   "cell_type": "code",
   "execution_count": 23,
   "metadata": {},
   "outputs": [
    {
     "name": "stdout",
     "output_type": "stream",
     "text": [
      "(288, 432, 3)\n"
     ]
    }
   ],
   "source": [
    "# print(img_array.shape)\n",
    " #         img_array = mpimg.imread(os.path.join(path,img))"
   ]
  },
  {
   "cell_type": "code",
   "execution_count": 28,
   "metadata": {},
   "outputs": [
    {
     "data": {
      "image/png": "[encoded data removed]",
      "text/plain": [
       "<Figure size 432x288 with 1 Axes>"
      ]
     },
     "metadata": {
      "needs_background": "light"
     },
     "output_type": "display_data"
    }
   ],
   "source": [
    "img_size = 80 #resize image, makes it blurry as number decreases\n",
    "\n",
    "# new_array = cv2.resize(img_array, (img_size,img_size))\n",
    "# plt.imshow(new_array)\n",
    "# plt.show()"
   ]
  },
  {
   "cell_type": "code",
   "execution_count": 107,
   "metadata": {},
   "outputs": [],
   "source": [
    "training_data = []\n",
    "\n",
    "cwd = os.getcwd() #directory of all the data images\n",
    "categories = ['normal','abnormal']\n",
    "\n",
    "def create_training_data():\n",
    "    for category in categories:\n",
    "        path = os.path.join(cwd, category) #path to the data directories\n",
    "        #take index of folder as 0/1 for CNN\n",
    "        class_num = categories.index(category) \n",
    "        for img in os.listdir(path):\n",
    "            try:\n",
    "                img_array = cv2.imread(os.path.join(path,img))\n",
    "                new_array = cv2.resize(img_array, (img_size,img_size))\n",
    "                training_data.append([new_array, class_num]) #append resized array to label\n",
    "            except Exception as e:\n",
    "                pass\n",
    "            \n",
    "create_training_data()            \n",
    "            \n",
    "            \n",
    "            "
   ]
  },
  {
   "cell_type": "code",
   "execution_count": 118,
   "metadata": {},
   "outputs": [],
   "source": [
    "#bootstrapping to balance dataset if unbalanced\n",
    "def balance_dataset(data):\n",
    "    \"\"\"\n",
    "    boostrapping to balance binary dataset\n",
    "    may need to think through for multi-class\n",
    "    \"\"\"\n",
    "        \n",
    "    norm = [e for e in data if e[1] == 0] \n",
    "    abnorm = [e for e in data if e[1] == 1]\n",
    "    \n",
    "    print(\"OG norm sample size: %i\" %len(norm))\n",
    "    print(\"OG abnorm sample size: %i\" %len(abnorm))\n",
    "\n",
    "    if len(norm) < len(abnorm):\n",
    "        sample_size = len(abnorm)\n",
    "        new_norm = resample(norm, \n",
    "                            replace=True,\n",
    "                            n_samples = sample_size)\n",
    "        output = new_norm + abnorm\n",
    "    \n",
    "    elif len(norm) > len(abnorm):\n",
    "        sample_size = len(norm)\n",
    "        new_abnorm = resample(abnorm, \n",
    "                            replace=True,\n",
    "                            n_samples = sample_size)\n",
    "        output = norm + new_abnorm\n",
    "        \n",
    "    else:\n",
    "        pass\n",
    "    \n",
    "    return output\n",
    "    "
   ]
  },
  {
   "cell_type": "code",
   "execution_count": 130,
   "metadata": {},
   "outputs": [],
   "source": [
    "#Randomizes new balanced dataset\n",
    "balanced_data = balance_dataset(training_data)\n",
    "random.shuffle(balanced_data)\n",
    "class_n = [e for e in balanced_data if e[1] == 0]\n",
    "class_ab = [e for e in balanced_data if e[1] == 1]\n",
    "print(\"new norm sample size: %i\" %len(norm))\n",
    "print(\"new abnorm sample size: %i\" %len(abnorm))"
   ]
  },
  {
   "cell_type": "code",
   "execution_count": 134,
   "metadata": {},
   "outputs": [],
   "source": [
    "#Setting feature and label datasets\n",
    "X = [] #features\n",
    "y = [] #labels\n",
    "\n",
    "for features, label in balanced_data:\n",
    "    X.append(features)\n",
    "    y.append(label)\n",
    "\n",
    "X = np.array(X).reshape(-1,img_size,img_size,3) #reshapes for input into CNN\n"
   ]
  },
  {
   "cell_type": "code",
   "execution_count": 135,
   "metadata": {},
   "outputs": [],
   "source": [
    "#Saving them to not have to reload data everytime\n",
    "\n",
    "pickle_out = open(\"X.pickle\",\"wb\")\n",
    "pickle.dump(X, pickle_out)\n",
    "pickle_out.close()\n",
    "\n",
    "pickle_out = open(\"y.pickle\",\"wb\")\n",
    "pickle.dump(y, pickle_out)\n",
    "pickle_out.close()\n"
   ]
  },
  {
   "cell_type": "code",
   "execution_count": 136,
   "metadata": {},
   "outputs": [],
   "source": [
    "#Reopen\n",
    "# pickle_in = open(\"X.pickle\",\"rb\")\n",
    "# X = pickle.load(pickle_in)"
   ]
  },
  {
   "cell_type": "code",
   "execution_count": null,
   "metadata": {},
   "outputs": [],
   "source": []
  }
 ],
 "metadata": {
  "kernelspec": {
   "display_name": "Python 3",
   "language": "python",
   "name": "python3"
  },
  "language_info": {
   "codemirror_mode": {
    "name": "ipython",
    "version": 3
   },
   "file_extension": ".py",
   "mimetype": "text/x-python",
   "name": "python",
   "nbconvert_exporter": "python",
   "pygments_lexer": "ipython3",
   "version": "3.7.4"
  }
 },
 "nbformat": 4,
 "nbformat_minor": 2
}
