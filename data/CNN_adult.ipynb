{
 "cells": [
  {
   "cell_type": "code",
   "execution_count": null,
   "metadata": {},
   "outputs": [],
   "source": [
    "! pip install tensorflow;"
   ]
  },
  {
   "cell_type": "code",
   "execution_count": 3,
   "metadata": {},
   "outputs": [],
   "source": [
    "import tensorflow as tf\n",
    "from tensorflow.keras.models import Sequential\n",
    "from tensorflow.keras.layers import Dense, Dropout, Activation, Flatten, Conv2D, MaxPooling2D\n",
    "import pickle\n",
    "import numpy as np\n",
    "import os\n",
    "from sklearn.model_selection import train_test_split"
   ]
  },
  {
   "cell_type": "code",
   "execution_count": 4,
   "metadata": {},
   "outputs": [],
   "source": [
    "X = pickle.load(open(\"X.pickle\",\"rb\"))\n",
    "y = pickle.load(open(\"y.pickle\",\"rb\"))\n",
    "\n",
    "#normalizes in L-2 order (square root of the sum of the squares)\n",
    "X = tf.keras.utils.normalize(X, axis = -1, order = 2);\n",
    "y = np.array(y)"
   ]
  },
  {
   "cell_type": "code",
   "execution_count": 6,
   "metadata": {},
   "outputs": [],
   "source": [
    "def create_model():\n",
    "    model = tf.keras.Sequential()\n",
    "    \n",
    "    #number of filters, kernal size, input shape is such because we don't need batch size\n",
    "    #dimension of kernal has to be an odd integer, 1,3,5,7 are common\n",
    "    model.add(Conv2D(32,(3,3), input_shape = X.shape[1:])) \n",
    "#     model.add(Conv2D(16,(3,3)))\n",
    "#     model.add(Dropout(0.25))\n",
    "    model.add(MaxPooling2D(pool_size=(2, 2))) #choosing 2 because recommended\n",
    "    model.add(Activation(\"relu\"))\n",
    "\n",
    "    model.add(Conv2D(64,(3,3))) #after the first layer, you don't need to specify the size of input anymore\n",
    "#     model.add(Conv2D(32,(3,3)))\n",
    "#     model.add(Dropout(0.25))\n",
    "    model.add(MaxPooling2D(pool_size=(2, 2))) #choosing 2 because recommended\n",
    "    model.add(Activation(\"relu\"))\n",
    "\n",
    "    model.add(Flatten())\n",
    "#     model.add(Dropout(0.5))\n",
    "    model.add(Dense(64))\n",
    "\n",
    "    model.add(Dense(1))\n",
    "    model.add(Activation('sigmoid'))\n",
    "\n",
    "    model.compile(loss=\"binary_crossentropy\",\n",
    "                  optimizer=\"adam\",\n",
    "                 metrics=['accuracy'])\n",
    "    #consider using CategorialCrossentropy when we have multiple classes\n",
    "    \n",
    "    model.save('CNN_adult_v1.model')\n",
    "    return model\n",
    "    "
   ]
  },
  {
   "cell_type": "code",
   "execution_count": 7,
   "metadata": {},
   "outputs": [
    {
     "name": "stdout",
     "output_type": "stream",
     "text": [
      "WARNING:tensorflow:From /Users/yunchanchen/opt/anaconda3/lib/python3.7/site-packages/tensorflow/python/ops/resource_variable_ops.py:1817: calling BaseResourceVariable.__init__ (from tensorflow.python.ops.resource_variable_ops) with constraint is deprecated and will be removed in a future version.\n",
      "Instructions for updating:\n",
      "If using Keras pass *_constraint arguments to layers.\n",
      "INFO:tensorflow:Assets written to: CNN_adult_v1.model/assets\n"
     ]
    }
   ],
   "source": [
    "model = create_model()"
   ]
  },
  {
   "cell_type": "code",
   "execution_count": 8,
   "metadata": {},
   "outputs": [
    {
     "name": "stdout",
     "output_type": "stream",
     "text": [
      "Epoch 1/30\n",
      "145/145 [==============================] - 12s 82ms/step - loss: 0.7134 - accuracy: 0.5946 - val_loss: 0.6663 - val_accuracy: 0.5806\n",
      "Epoch 2/30\n",
      "145/145 [==============================] - 12s 82ms/step - loss: 0.4523 - accuracy: 0.7918 - val_loss: 0.6383 - val_accuracy: 0.6097\n",
      "Epoch 3/30\n",
      "145/145 [==============================] - 12s 86ms/step - loss: 0.4117 - accuracy: 0.8047 - val_loss: 0.5231 - val_accuracy: 0.7573\n",
      "Epoch 4/30\n",
      "145/145 [==============================] - 13s 90ms/step - loss: 0.3919 - accuracy: 0.8296 - val_loss: 0.3823 - val_accuracy: 0.8544\n",
      "Epoch 5/30\n",
      "145/145 [==============================] - 13s 88ms/step - loss: 0.3782 - accuracy: 0.8326 - val_loss: 0.4334 - val_accuracy: 0.8214\n",
      "Epoch 6/30\n",
      "145/145 [==============================] - 13s 88ms/step - loss: 0.3522 - accuracy: 0.8449 - val_loss: 0.3958 - val_accuracy: 0.8311\n",
      "Epoch 7/30\n",
      "145/145 [==============================] - 13s 87ms/step - loss: 0.3440 - accuracy: 0.8513 - val_loss: 0.3188 - val_accuracy: 0.8816\n",
      "Epoch 8/30\n",
      "145/145 [==============================] - 13s 88ms/step - loss: 0.3294 - accuracy: 0.8583 - val_loss: 0.3596 - val_accuracy: 0.8408\n",
      "Epoch 9/30\n",
      "145/145 [==============================] - 13s 88ms/step - loss: 0.3175 - accuracy: 0.8675 - val_loss: 0.2602 - val_accuracy: 0.9126\n",
      "Epoch 10/30\n",
      "145/145 [==============================] - 12s 85ms/step - loss: 0.3070 - accuracy: 0.8770 - val_loss: 0.3703 - val_accuracy: 0.8388\n",
      "Epoch 11/30\n",
      "145/145 [==============================] - 13s 87ms/step - loss: 0.3001 - accuracy: 0.8736 - val_loss: 0.2041 - val_accuracy: 0.9437\n",
      "Epoch 12/30\n",
      "145/145 [==============================] - 12s 86ms/step - loss: 0.2894 - accuracy: 0.8837 - val_loss: 0.4096 - val_accuracy: 0.7981\n",
      "Epoch 13/30\n",
      "145/145 [==============================] - 12s 85ms/step - loss: 0.2752 - accuracy: 0.8874 - val_loss: 0.5069 - val_accuracy: 0.7282\n",
      "Epoch 14/30\n",
      "145/145 [==============================] - 13s 89ms/step - loss: 0.2719 - accuracy: 0.8926 - val_loss: 0.3349 - val_accuracy: 0.8466\n",
      "Epoch 15/30\n",
      "145/145 [==============================] - 13s 91ms/step - loss: 0.2602 - accuracy: 0.8947 - val_loss: 0.2858 - val_accuracy: 0.8738\n",
      "Epoch 16/30\n",
      "145/145 [==============================] - 13s 91ms/step - loss: 0.2394 - accuracy: 0.9051 - val_loss: 0.2319 - val_accuracy: 0.9126\n",
      "Epoch 17/30\n",
      "145/145 [==============================] - 14s 98ms/step - loss: 0.2321 - accuracy: 0.9049 - val_loss: 0.2531 - val_accuracy: 0.9146\n",
      "Epoch 18/30\n",
      "145/145 [==============================] - 14s 96ms/step - loss: 0.2206 - accuracy: 0.9135 - val_loss: 0.2499 - val_accuracy: 0.9068\n",
      "Epoch 19/30\n",
      "145/145 [==============================] - 13s 87ms/step - loss: 0.2090 - accuracy: 0.9197 - val_loss: 0.2722 - val_accuracy: 0.9068\n",
      "Epoch 20/30\n",
      "145/145 [==============================] - 12s 86ms/step - loss: 0.1973 - accuracy: 0.9258 - val_loss: 0.2926 - val_accuracy: 0.8893\n",
      "Epoch 21/30\n",
      "145/145 [==============================] - 12s 86ms/step - loss: 0.1918 - accuracy: 0.9228 - val_loss: 0.3183 - val_accuracy: 0.8718\n",
      "Epoch 22/30\n",
      "145/145 [==============================] - 13s 90ms/step - loss: 0.1985 - accuracy: 0.9180 - val_loss: 0.2218 - val_accuracy: 0.9243\n",
      "Epoch 23/30\n",
      "145/145 [==============================] - 14s 95ms/step - loss: 0.1742 - accuracy: 0.9351 - val_loss: 0.1468 - val_accuracy: 0.9573\n",
      "Epoch 24/30\n",
      "145/145 [==============================] - 13s 90ms/step - loss: 0.1667 - accuracy: 0.9344 - val_loss: 0.1623 - val_accuracy: 0.9379\n",
      "Epoch 25/30\n",
      "145/145 [==============================] - 12s 86ms/step - loss: 0.1637 - accuracy: 0.9361 - val_loss: 0.3558 - val_accuracy: 0.8680\n",
      "Epoch 26/30\n",
      "145/145 [==============================] - 12s 85ms/step - loss: 0.1546 - accuracy: 0.9417 - val_loss: 0.1947 - val_accuracy: 0.9359\n",
      "Epoch 27/30\n",
      "145/145 [==============================] - 12s 85ms/step - loss: 0.1376 - accuracy: 0.9482 - val_loss: 0.2589 - val_accuracy: 0.9146\n",
      "Epoch 28/30\n",
      "145/145 [==============================] - 13s 87ms/step - loss: 0.1265 - accuracy: 0.9534 - val_loss: 0.2103 - val_accuracy: 0.9204\n",
      "Epoch 29/30\n",
      "145/145 [==============================] - 13s 87ms/step - loss: 0.1398 - accuracy: 0.9489 - val_loss: 0.2408 - val_accuracy: 0.9243\n",
      "Epoch 30/30\n",
      "145/145 [==============================] - 12s 84ms/step - loss: 0.1155 - accuracy: 0.9592 - val_loss: 0.1174 - val_accuracy: 0.9592\n"
     ]
    },
    {
     "data": {
      "text/plain": [
       "<tensorflow.python.keras.callbacks.History at 0x187243710>"
      ]
     },
     "execution_count": 8,
     "metadata": {},
     "output_type": "execute_result"
    }
   ],
   "source": [
    "model.fit(X,y, batch_size = 32, epochs = 30, validation_split = 0.1) #10% split"
   ]
  },
  {
   "cell_type": "code",
   "execution_count": null,
   "metadata": {},
   "outputs": [],
   "source": [
    "#future work manual split\n",
    "#this gives 33% for test, 67% for train\n",
    "X_train, X_test, y_train, y_test = train_test_split(X,y, test_size = 0.33, random_state=seed)\n",
    "\n"
   ]
  }
 ],
 "metadata": {
  "kernelspec": {
   "display_name": "Python 3",
   "language": "python",
   "name": "python3"
  },
  "language_info": {
   "codemirror_mode": {
    "name": "ipython",
    "version": 3
   },
   "file_extension": ".py",
   "mimetype": "text/x-python",
   "name": "python",
   "nbconvert_exporter": "python",
   "pygments_lexer": "ipython3",
   "version": "3.7.4"
  }
 },
 "nbformat": 4,
 "nbformat_minor": 2
}
