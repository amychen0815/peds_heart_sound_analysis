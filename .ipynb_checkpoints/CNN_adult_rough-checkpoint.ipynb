{
 "cells": [
  {
   "cell_type": "code",
   "execution_count": 1,
   "metadata": {},
   "outputs": [
    {
     "name": "stdout",
     "output_type": "stream",
     "text": [
      "Requirement already satisfied: tensorflow in /Users/yunchanchen/opt/anaconda3/lib/python3.7/site-packages (2.2.0)\n",
      "Requirement already satisfied: termcolor>=1.1.0 in /Users/yunchanchen/opt/anaconda3/lib/python3.7/site-packages (from tensorflow) (1.1.0)\n",
      "Requirement already satisfied: scipy==1.4.1; python_version >= \"3\" in /Users/yunchanchen/opt/anaconda3/lib/python3.7/site-packages (from tensorflow) (1.4.1)\n",
      "Requirement already satisfied: h5py<2.11.0,>=2.10.0 in /Users/yunchanchen/opt/anaconda3/lib/python3.7/site-packages (from tensorflow) (2.10.0)\n",
      "Requirement already satisfied: protobuf>=3.8.0 in /Users/yunchanchen/opt/anaconda3/lib/python3.7/site-packages (from tensorflow) (3.12.1)\n",
      "Requirement already satisfied: keras-preprocessing>=1.1.0 in /Users/yunchanchen/opt/anaconda3/lib/python3.7/site-packages (from tensorflow) (1.1.2)\n",
      "Requirement already satisfied: tensorboard<2.3.0,>=2.2.0 in /Users/yunchanchen/opt/anaconda3/lib/python3.7/site-packages (from tensorflow) (2.2.1)\n",
      "Requirement already satisfied: grpcio>=1.8.6 in /Users/yunchanchen/opt/anaconda3/lib/python3.7/site-packages (from tensorflow) (1.29.0)\n",
      "Requirement already satisfied: wheel>=0.26; python_version >= \"3\" in /Users/yunchanchen/opt/anaconda3/lib/python3.7/site-packages (from tensorflow) (0.33.6)\n",
      "Requirement already satisfied: absl-py>=0.7.0 in /Users/yunchanchen/opt/anaconda3/lib/python3.7/site-packages (from tensorflow) (0.9.0)\n",
      "Requirement already satisfied: opt-einsum>=2.3.2 in /Users/yunchanchen/opt/anaconda3/lib/python3.7/site-packages (from tensorflow) (3.2.1)\n",
      "Requirement already satisfied: gast==0.3.3 in /Users/yunchanchen/opt/anaconda3/lib/python3.7/site-packages (from tensorflow) (0.3.3)\n",
      "Requirement already satisfied: six>=1.12.0 in /Users/yunchanchen/opt/anaconda3/lib/python3.7/site-packages (from tensorflow) (1.12.0)\n",
      "Requirement already satisfied: astunparse==1.6.3 in /Users/yunchanchen/opt/anaconda3/lib/python3.7/site-packages (from tensorflow) (1.6.3)\n",
      "Requirement already satisfied: wrapt>=1.11.1 in /Users/yunchanchen/opt/anaconda3/lib/python3.7/site-packages (from tensorflow) (1.11.2)\n",
      "Requirement already satisfied: google-pasta>=0.1.8 in /Users/yunchanchen/opt/anaconda3/lib/python3.7/site-packages (from tensorflow) (0.2.0)\n",
      "Requirement already satisfied: tensorflow-estimator<2.3.0,>=2.2.0 in /Users/yunchanchen/opt/anaconda3/lib/python3.7/site-packages (from tensorflow) (2.2.0)\n",
      "Requirement already satisfied: numpy<2.0,>=1.16.0 in /Users/yunchanchen/opt/anaconda3/lib/python3.7/site-packages (from tensorflow) (1.17.2)\n",
      "Requirement already satisfied: setuptools in /Users/yunchanchen/opt/anaconda3/lib/python3.7/site-packages (from protobuf>=3.8.0->tensorflow) (41.4.0)\n",
      "Requirement already satisfied: tensorboard-plugin-wit>=1.6.0 in /Users/yunchanchen/opt/anaconda3/lib/python3.7/site-packages (from tensorboard<2.3.0,>=2.2.0->tensorflow) (1.6.0.post3)\n",
      "Requirement already satisfied: google-auth-oauthlib<0.5,>=0.4.1 in /Users/yunchanchen/opt/anaconda3/lib/python3.7/site-packages (from tensorboard<2.3.0,>=2.2.0->tensorflow) (0.4.1)\n",
      "Requirement already satisfied: werkzeug>=0.11.15 in /Users/yunchanchen/opt/anaconda3/lib/python3.7/site-packages (from tensorboard<2.3.0,>=2.2.0->tensorflow) (0.16.0)\n",
      "Requirement already satisfied: requests<3,>=2.21.0 in /Users/yunchanchen/opt/anaconda3/lib/python3.7/site-packages (from tensorboard<2.3.0,>=2.2.0->tensorflow) (2.22.0)\n",
      "Requirement already satisfied: google-auth<2,>=1.6.3 in /Users/yunchanchen/opt/anaconda3/lib/python3.7/site-packages (from tensorboard<2.3.0,>=2.2.0->tensorflow) (1.15.0)\n",
      "Requirement already satisfied: markdown>=2.6.8 in /Users/yunchanchen/opt/anaconda3/lib/python3.7/site-packages (from tensorboard<2.3.0,>=2.2.0->tensorflow) (3.2.2)\n",
      "Requirement already satisfied: requests-oauthlib>=0.7.0 in /Users/yunchanchen/opt/anaconda3/lib/python3.7/site-packages (from google-auth-oauthlib<0.5,>=0.4.1->tensorboard<2.3.0,>=2.2.0->tensorflow) (1.3.0)\n",
      "Requirement already satisfied: certifi>=2017.4.17 in /Users/yunchanchen/opt/anaconda3/lib/python3.7/site-packages (from requests<3,>=2.21.0->tensorboard<2.3.0,>=2.2.0->tensorflow) (2019.9.11)\n",
      "Requirement already satisfied: idna<2.9,>=2.5 in /Users/yunchanchen/opt/anaconda3/lib/python3.7/site-packages (from requests<3,>=2.21.0->tensorboard<2.3.0,>=2.2.0->tensorflow) (2.8)\n",
      "Requirement already satisfied: chardet<3.1.0,>=3.0.2 in /Users/yunchanchen/opt/anaconda3/lib/python3.7/site-packages (from requests<3,>=2.21.0->tensorboard<2.3.0,>=2.2.0->tensorflow) (3.0.4)\n",
      "Requirement already satisfied: urllib3!=1.25.0,!=1.25.1,<1.26,>=1.21.1 in /Users/yunchanchen/opt/anaconda3/lib/python3.7/site-packages (from requests<3,>=2.21.0->tensorboard<2.3.0,>=2.2.0->tensorflow) (1.24.2)\n",
      "Requirement already satisfied: rsa<4.1,>=3.1.4 in /Users/yunchanchen/opt/anaconda3/lib/python3.7/site-packages (from google-auth<2,>=1.6.3->tensorboard<2.3.0,>=2.2.0->tensorflow) (4.0)\n",
      "Requirement already satisfied: cachetools<5.0,>=2.0.0 in /Users/yunchanchen/opt/anaconda3/lib/python3.7/site-packages (from google-auth<2,>=1.6.3->tensorboard<2.3.0,>=2.2.0->tensorflow) (4.1.0)\n",
      "Requirement already satisfied: pyasn1-modules>=0.2.1 in /Users/yunchanchen/opt/anaconda3/lib/python3.7/site-packages (from google-auth<2,>=1.6.3->tensorboard<2.3.0,>=2.2.0->tensorflow) (0.2.8)\n",
      "Requirement already satisfied: importlib-metadata; python_version < \"3.8\" in /Users/yunchanchen/opt/anaconda3/lib/python3.7/site-packages (from markdown>=2.6.8->tensorboard<2.3.0,>=2.2.0->tensorflow) (0.23)\n",
      "Requirement already satisfied: oauthlib>=3.0.0 in /Users/yunchanchen/opt/anaconda3/lib/python3.7/site-packages (from requests-oauthlib>=0.7.0->google-auth-oauthlib<0.5,>=0.4.1->tensorboard<2.3.0,>=2.2.0->tensorflow) (3.1.0)\n",
      "Requirement already satisfied: pyasn1>=0.1.3 in /Users/yunchanchen/opt/anaconda3/lib/python3.7/site-packages (from rsa<4.1,>=3.1.4->google-auth<2,>=1.6.3->tensorboard<2.3.0,>=2.2.0->tensorflow) (0.4.8)\n",
      "Requirement already satisfied: zipp>=0.5 in /Users/yunchanchen/opt/anaconda3/lib/python3.7/site-packages (from importlib-metadata; python_version < \"3.8\"->markdown>=2.6.8->tensorboard<2.3.0,>=2.2.0->tensorflow) (0.6.0)\n",
      "Requirement already satisfied: more-itertools in /Users/yunchanchen/opt/anaconda3/lib/python3.7/site-packages (from zipp>=0.5->importlib-metadata; python_version < \"3.8\"->markdown>=2.6.8->tensorboard<2.3.0,>=2.2.0->tensorflow) (7.2.0)\n"
     ]
    }
   ],
   "source": [
    "! pip install tensorflow;"
   ]
  },
  {
   "cell_type": "code",
   "execution_count": 2,
   "metadata": {},
   "outputs": [],
   "source": [
    "import tensorflow as tf\n",
    "from tensorflow.keras.models import Sequential\n",
    "from tensorflow.keras.layers import Dense, Dropout, Activation, Flatten, Conv2D, MaxPooling2D\n",
    "import pickle\n",
    "import numpy as np\n",
    "import os\n",
    "import matplotlib.pyplot as plt"
   ]
  },
  {
   "cell_type": "code",
   "execution_count": 3,
   "metadata": {},
   "outputs": [],
   "source": [
    "X = pickle.load(open(\"X.pickle\",\"rb\"))\n",
    "y = pickle.load(open(\"y.pickle\",\"rb\"))\n",
    "\n",
    "#normalizes in L-2 order (square root of the sum of the squares)\n",
    "X = tf.keras.utils.normalize(X, axis = -1, order = 2);\n",
    "y = np.array(y)"
   ]
  },
  {
   "cell_type": "code",
   "execution_count": 4,
   "metadata": {},
   "outputs": [],
   "source": [
    "def create_model():\n",
    "    model = tf.keras.Sequential()\n",
    "    #number of filters, kernal size, input shape is such because we don't need batch size\n",
    "    #dimension of kernal has to be an odd integer, 1,3,5,7 are common\n",
    "    \n",
    "    model.add(Conv2D(16,(3,3), input_shape = X.shape[1:])) \n",
    "    model.add(Conv2D(16,(3,3)))\n",
    "    model.add(Dropout(0.25))\n",
    "    model.add(MaxPooling2D(pool_size=(2, 2)))\n",
    "    \n",
    "    model.add(Conv2D(32,(3,3))) #after the first layer, you don't need to specify the size of input anymore\n",
    "    model.add(Conv2D(32,(3,3)))\n",
    "    model.add(Dropout(0.25))\n",
    "    model.add(MaxPooling2D(pool_size=(2, 2)))\n",
    "    \n",
    "    model.add(Flatten())\n",
    "    model.add(Dropout(0.5))\n",
    "    model.add(Dense(64))\n",
    "\n",
    "    model.add(Dense(1))\n",
    "    model.add(Activation('sigmoid'))\n",
    "    \n",
    "    \n",
    "#     model.add(Conv2D(32,(3,3), input_shape = X.shape[1:])) \n",
    "#     model.add(Conv2D(16,(3,3)))\n",
    "#     model.add(Dropout(0.25))\n",
    "#     model.add(MaxPooling2D(pool_size=(2, 2))) #choosing 2 because recommended\n",
    "#     model.add(Activation(\"relu\"))\n",
    "\n",
    "#     model.add(Conv2D(32,(3,3))) #after the first layer, you don't need to specify the size of input anymore\n",
    "#     model.add(Conv2D(32,(3,3)))\n",
    "#     model.add(Dropout(0.25))\n",
    "#     model.add(MaxPooling2D(pool_size=(2, 2))) #choosing 2 because recommended\n",
    "#     model.add(Activation(\"relu\"))\n",
    "\n",
    "#     model.add(Flatten())\n",
    "#     model.add(Dropout(0.5))\n",
    "#     model.add(Dense(64))\n",
    "\n",
    "#     model.add(Dense(1))\n",
    "#     model.add(Activation('sigmoid'))\n",
    "#     model.add(Activation('relu'))\n",
    "\n",
    "    model.compile(loss=\"binary_crossentropy\",\n",
    "                  optimizer=\"adam\",\n",
    "                 metrics=['accuracy'])\n",
    "    #consider using CategorialCrossentropy when we have multiple classes\n",
    "    \n",
    "    model.save('CNN_adult_v1.model')\n",
    "    return model\n",
    "    "
   ]
  },
  {
   "cell_type": "code",
   "execution_count": 5,
   "metadata": {},
   "outputs": [
    {
     "name": "stdout",
     "output_type": "stream",
     "text": [
      "WARNING:tensorflow:From /Users/yunchanchen/opt/anaconda3/lib/python3.7/site-packages/tensorflow/python/ops/resource_variable_ops.py:1817: calling BaseResourceVariable.__init__ (from tensorflow.python.ops.resource_variable_ops) with constraint is deprecated and will be removed in a future version.\n",
      "Instructions for updating:\n",
      "If using Keras pass *_constraint arguments to layers.\n",
      "INFO:tensorflow:Assets written to: CNN_adult_v1.model/assets\n"
     ]
    }
   ],
   "source": [
    "model = create_model()"
   ]
  },
  {
   "cell_type": "code",
   "execution_count": 6,
   "metadata": {},
   "outputs": [],
   "source": [
    "# model.fit(X,y, batch_size = 32, epochs = 30, validation_split = 0.1) #10% split"
   ]
  },
  {
   "cell_type": "code",
   "execution_count": 7,
   "metadata": {},
   "outputs": [],
   "source": [
    "#Future Direction\n",
    "from sklearn.datasets import make_classification\n",
    "from sklearn.model_selection import train_test_split\n",
    "\n",
    "X_train, X_test, y_train, y_test = train_test_split(X, y, test_size=0.1)"
   ]
  },
  {
   "cell_type": "code",
   "execution_count": 8,
   "metadata": {},
   "outputs": [
    {
     "name": "stdout",
     "output_type": "stream",
     "text": [
      "Epoch 1/30\n",
      "145/145 [==============================] - 19s 133ms/step - loss: 0.7472 - accuracy: 0.5855\n",
      "Epoch 2/30\n",
      "145/145 [==============================] - 20s 135ms/step - loss: 0.4780 - accuracy: 0.7763\n",
      "Epoch 3/30\n",
      "145/145 [==============================] - 20s 139ms/step - loss: 0.4512 - accuracy: 0.7871\n",
      "Epoch 4/30\n",
      "145/145 [==============================] - 20s 137ms/step - loss: 0.4046 - accuracy: 0.8170\n",
      "Epoch 5/30\n",
      "145/145 [==============================] - 20s 139ms/step - loss: 0.3793 - accuracy: 0.8362\n",
      "Epoch 6/30\n",
      "145/145 [==============================] - 20s 138ms/step - loss: 0.3670 - accuracy: 0.8337\n",
      "Epoch 7/30\n",
      "145/145 [==============================] - 20s 136ms/step - loss: 0.3396 - accuracy: 0.8574\n",
      "Epoch 8/30\n",
      "145/145 [==============================] - 20s 136ms/step - loss: 0.3297 - accuracy: 0.8611\n",
      "Epoch 9/30\n",
      "145/145 [==============================] - 20s 138ms/step - loss: 0.3162 - accuracy: 0.8632\n",
      "Epoch 10/30\n",
      "145/145 [==============================] - 20s 137ms/step - loss: 0.3051 - accuracy: 0.8766\n",
      "Epoch 11/30\n",
      "145/145 [==============================] - 20s 136ms/step - loss: 0.3084 - accuracy: 0.8701\n",
      "Epoch 12/30\n",
      "145/145 [==============================] - 20s 139ms/step - loss: 0.2937 - accuracy: 0.8818\n",
      "Epoch 13/30\n",
      "145/145 [==============================] - 20s 137ms/step - loss: 0.2692 - accuracy: 0.8930\n",
      "Epoch 14/30\n",
      "145/145 [==============================] - 20s 136ms/step - loss: 0.2828 - accuracy: 0.8857\n",
      "Epoch 15/30\n",
      "145/145 [==============================] - 19s 134ms/step - loss: 0.2586 - accuracy: 0.8986\n",
      "Epoch 16/30\n",
      "145/145 [==============================] - 20s 136ms/step - loss: 0.2661 - accuracy: 0.8913\n",
      "Epoch 17/30\n",
      "145/145 [==============================] - 20s 138ms/step - loss: 0.2448 - accuracy: 0.8984\n",
      "Epoch 18/30\n",
      "145/145 [==============================] - 20s 139ms/step - loss: 0.2448 - accuracy: 0.9031\n",
      "Epoch 19/30\n",
      "145/145 [==============================] - 20s 136ms/step - loss: 0.2482 - accuracy: 0.9003\n",
      "Epoch 20/30\n",
      "145/145 [==============================] - 20s 139ms/step - loss: 0.2338 - accuracy: 0.9079\n",
      "Epoch 21/30\n",
      "145/145 [==============================] - 20s 140ms/step - loss: 0.2285 - accuracy: 0.9070\n",
      "Epoch 22/30\n",
      "145/145 [==============================] - 21s 142ms/step - loss: 0.2228 - accuracy: 0.9049\n",
      "Epoch 23/30\n",
      "145/145 [==============================] - 20s 140ms/step - loss: 0.2183 - accuracy: 0.9111\n",
      "Epoch 24/30\n",
      "145/145 [==============================] - 20s 135ms/step - loss: 0.2152 - accuracy: 0.9150\n",
      "Epoch 25/30\n",
      "145/145 [==============================] - 20s 137ms/step - loss: 0.2190 - accuracy: 0.9137\n",
      "Epoch 26/30\n",
      "145/145 [==============================] - 20s 138ms/step - loss: 0.2100 - accuracy: 0.9197\n",
      "Epoch 27/30\n",
      "145/145 [==============================] - 19s 134ms/step - loss: 0.2058 - accuracy: 0.9204\n",
      "Epoch 28/30\n",
      "145/145 [==============================] - 20s 139ms/step - loss: 0.1987 - accuracy: 0.9206\n",
      "Epoch 29/30\n",
      "145/145 [==============================] - 20s 137ms/step - loss: 0.2040 - accuracy: 0.9161\n",
      "Epoch 30/30\n",
      "145/145 [==============================] - 20s 138ms/step - loss: 0.1914 - accuracy: 0.9238\n"
     ]
    },
    {
     "data": {
      "text/plain": [
       "<tensorflow.python.keras.callbacks.History at 0x7ff201748050>"
      ]
     },
     "execution_count": 8,
     "metadata": {},
     "output_type": "execute_result"
    }
   ],
   "source": [
    "model.fit(X_train, y_train, epochs=30, batch_size=32)"
   ]
  },
  {
   "cell_type": "code",
   "execution_count": null,
   "metadata": {},
   "outputs": [],
   "source": [
    "from sklearn.metrics import roc_curve\n",
    "y_pred_keras = model.predict(X_test).ravel()\n",
    "fpr_keras, tpr_keras, thresholds_keras = roc_curve(y_test, y_pred_keras)"
   ]
  },
  {
   "cell_type": "code",
   "execution_count": null,
   "metadata": {},
   "outputs": [],
   "source": [
    "from sklearn.metrics import auc\n",
    "auc_keras = auc(fpr_keras, tpr_keras)"
   ]
  },
  {
   "cell_type": "code",
   "execution_count": null,
   "metadata": {},
   "outputs": [],
   "source": [
    "plt.figure(1)\n",
    "plt.plot([0, 1], [0, 1], 'k--')\n",
    "plt.plot(fpr_keras, tpr_keras, label='Keras (area = {:.3f})'.format(auc_keras))\n",
    "plt.xlabel('False positive rate')\n",
    "plt.ylabel('True positive rate')\n",
    "plt.title('ROC curve')\n",
    "plt.legend(loc='best')\n",
    "plt.show()"
   ]
  },
  {
   "cell_type": "code",
   "execution_count": null,
   "metadata": {},
   "outputs": [],
   "source": [
    "import pandas as pd\n",
    "dataset = pd.DataFrame({'TPR': tpr_keras, 'FPR': fpr_keras})\n",
    "dataset['FNR'] = 1-dataset['TPR']\n",
    "dataset['TNR'] = 1-dataset['FPR']\n",
    "dataset['Sensitivity'] = dataset['TPR']/(dataset['TPR']+dataset['FNR'])*100\n",
    "dataset['Specificity'] = dataset['TNR']/(dataset['FPR']+dataset['TNR'])*100"
   ]
  },
  {
   "cell_type": "code",
   "execution_count": null,
   "metadata": {},
   "outputs": [],
   "source": [
    "dataset.to_excel(\"CNN_Metrics.xlsx\") "
   ]
  },
  {
   "cell_type": "code",
   "execution_count": null,
   "metadata": {},
   "outputs": [],
   "source": [
    "#Future Direction\n",
    "from sklearn.datasets import make_classification\n",
    "from sklearn.model_selection import train_test_split\n",
    "\n",
    "X_train, X_test, y_train, y_test = train_test_split(X, y, test_size=0.1)\n",
    "\n",
    "# X_train, X_train_lr, y_train, y_train_lr = train_test_split(X_train,\n",
    "#                                                             y_train,\n",
    "#                                                             test_size=0.1)"
   ]
  },
  {
   "cell_type": "code",
   "execution_count": null,
   "metadata": {},
   "outputs": [],
   "source": [
    "#Stethaid Approach\n",
    "from sklearn import svm\n",
    "clf = svm.SVC(kernel='linear')\n"
   ]
  },
  {
   "cell_type": "code",
   "execution_count": null,
   "metadata": {},
   "outputs": [],
   "source": [
    "from sklearn.ensemble import RandomForestClassifier\n",
    "# Supervised transformation based on random forests\n",
    "rf = RandomForestClassifier(max_depth=3, n_estimators=10)\n",
    "rf.fit(X_train, y_train)\n",
    "\n",
    "y_pred_rf = rf.predict_proba(X_test)[:, 1]\n",
    "fpr_rf, tpr_rf, thresholds_rf = roc_curve(y_test, y_pred_rf)\n",
    "auc_rf = auc(fpr_rf, tpr_rf)"
   ]
  },
  {
   "cell_type": "code",
   "execution_count": null,
   "metadata": {},
   "outputs": [],
   "source": []
  }
 ],
 "metadata": {
  "kernelspec": {
   "display_name": "Python 3",
   "language": "python",
   "name": "python3"
  },
  "language_info": {
   "codemirror_mode": {
    "name": "ipython",
    "version": 3
   },
   "file_extension": ".py",
   "mimetype": "text/x-python",
   "name": "python",
   "nbconvert_exporter": "python",
   "pygments_lexer": "ipython3",
   "version": "3.7.4"
  }
 },
 "nbformat": 4,
 "nbformat_minor": 2
}
